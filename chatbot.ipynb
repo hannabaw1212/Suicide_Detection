{
 "cells": [
  {
   "cell_type": "code",
   "execution_count": 28,
   "metadata": {},
   "outputs": [],
   "source": [
    "import pandas as pd\n",
    "import re\n",
    "import nltk\n",
    "import string\n",
    "import random"
   ]
  },
  {
   "cell_type": "code",
   "execution_count": null,
   "metadata": {},
   "outputs": [],
   "source": [
    "r\"(.*)(how can I|what can I do|can you give me|I need|any suggestions|methods|techniques|how to)(.*)(manage|deal with|reduce|cope with|calm down|relax|control)(.*)([aA]nxiety|[sS]tress|[nN]ervousness|[oO]verwhelm(ed)?)(.*)\"\n"
   ]
  },
  {
   "cell_type": "markdown",
   "metadata": {},
   "source": []
  },
  {
   "cell_type": "code",
   "execution_count": 98,
   "metadata": {},
   "outputs": [
    {
     "name": "stdout",
     "output_type": "stream",
     "text": [
      "None\n",
      "None\n",
      "None\n",
      "None\n",
      "<re.Match object; span=(0, 11), match='Why anxiety'>\n",
      "In some cases, the cause of anxiety is not clear and may require in-depth medical evaluation. Sometimes the cause is a combination of factors, and it's not easy to pinpoint one specific reason.\n"
     ]
    }
   ],
   "source": [
    "import re\n",
    "import random\n",
    "\n",
    "patterns = {\n",
    "    r\"(.*)([I|i]'?m|I am|feeling|have|experiencing)(.*)([aA]nxiety|[aA]nxious)(.*)\": [\n",
    "        \"I'm so sorry to hear that you are suffering from anxiety.\",\n",
    "        \"I'm sad to hear that you have anxiety.\",\n",
    "        \"I understand that having anxiety can be challenging.\"\n",
    "    ],\n",
    "    r\"(.*)([I|i]'?m|I am|feeling|have|suffering from|experiencing)(.*)([dD]epression|[dD]epressed|[dD]own)(.*)\": [\n",
    "        \"I'm so sorry to hear that you are suffering from depression.\",\n",
    "        \"I'm sad to hear that you have depression.\",\n",
    "        \"Depression is difficult to bear. I'm sorry you're going through this.\"\n",
    "    ],\n",
    "    r\"(.*)([Hh]ow can [Ii]|[Ww]hat can [Ii] do|[Ii] need|[Aa]ny suggestions|[mM]ethods|[tT]echniques)(.*)(manage|deal (with)?|reduce|cope with|calm down|relax|control)(.*)([aA]nxiety|[sS]tress|[nN]ervousness|[oO]verwhelm(ed)?)(.*)\" :[\n",
    "        \"One method for dealing with anxiety is deep breathing.\",\n",
    "        \"Regular exercise can help manage stress and anxiety.\",\n",
    "        \"Mindfulness techniques have been proven to reduce anxiety.\",\n",
    "        \"Consider speaking to a healthcare professional for personalized advice.\",\n",
    "        \"If you're experiencing ongoing anxiety, it's crucial to seek professional advice for diagnosis and treatment options.\"\n",
    "    ],\n",
    "    r\"(.*)([Hh]ow can [Ii]|[Ww]hat can [Ii] do|[Ii] need|[Aa]ny suggestions|[mM]ethods|[tT]echniques)(.*)(manage|deal (with)?|reduce|cope with|overcome|handle)(.*)([dD]epression|[dD]epressed|[dD]own|[lL]ow)(.*)\":[\n",
    "        \"Seeking professional help is often the first step in managing depression.\",\n",
    "        \"Exercise is shown to improve mood and mental well-being, including symptoms of depression.\",\n",
    "        \"Mindfulness and meditation techniques can be effective in reducing symptoms of depression.\",\n",
    "        \"Dietary changes, such as a balanced diet rich in omega-3 fatty acids and Vitamin D, may help in dealing with depression.\",\n",
    "        \"Support from friends and family can be invaluable when you're feeling down.\",\n",
    "        \"Some find that talking therapies, such as cognitive-behavioral therapy (CBT), are effective in treating depression.\",\n",
    "        \"Medication like antidepressants can be an option, but they should be taken under medical supervision.\",\n",
    "        \"Artistic activities like painting or listening to music can sometimes lift mood.\",\n",
    "        \"Reducing alcohol and avoiding recreational drugs can have a positive effect on your mental health.\", \n",
    "        \"If you're experiencing ongoing depression, it's crucial to seek professional advice for diagnosis and treatment options.\"\n",
    "    ],\n",
    "\n",
    "    r\"(.*)([wW]hy [dD]o [iI] have|[wW]hy [aA]m [iI]|[wW]hat causes|[wW]hat (is|are) the reason(s)? for|[Ww]hy)(.*)([aA]nxiety|[sS]tress|[nN]ervousness|[wW]orry)(.*)\":[\n",
    "        \"Anxiety can be caused by a variety of factors, including stress, hormonal imbalances, or traumatic events.\",\n",
    "        \"Certain medications or substances can also induce anxiety as a side effect.\",\n",
    "        \"Sometimes anxiety is a symptom of an underlying medical condition.\",\n",
    "        \"Genetics can play a role; anxiety disorders often run in families.\",\n",
    "        \"Sometimes the cause is a combination of factors, and it's not easy to pinpoint one specific reason.\",\n",
    "        \"Chronic worry or fear can sometimes lead to anxiety; cognitive-behavioral therapy (CBT) can help identify root causes.\",\n",
    "        \"Lifestyle choices, such as lack of exercise or poor diet, can contribute to anxiety.\",\n",
    "        \"In some cases, the cause of anxiety is not clear and may require in-depth medical evaluation.\",\n",
    "        \"Mental health conditions like Generalized Anxiety Disorder (GAD) or Panic Disorder can also be the root cause.\"\n",
    "    ]\n",
    "\n",
    "}\n",
    "\n",
    "text = \"Why anxiety\"\n",
    "\n",
    "for pattern in list(patterns.keys()):\n",
    "    match_ = re.search(pattern, text)\n",
    "    print(match_)\n",
    "    if match_:\n",
    "        l = []\n",
    "        l.append(random.choice(patterns.get(pattern)))\n",
    "        l.append(random.choice(patterns.get(pattern)))\n",
    "        l = set(l)\n",
    "        print(\" \".join(l))\n",
    "        "
   ]
  },
  {
   "cell_type": "code",
   "execution_count": 38,
   "metadata": {},
   "outputs": [
    {
     "data": {
      "text/plain": [
       "20"
      ]
     },
     "execution_count": 38,
     "metadata": {},
     "output_type": "execute_result"
    }
   ],
   "source": [
    "random.choice([1, 2, 4, 2, 10, 11, 20, 32])"
   ]
  }
 ],
 "metadata": {
  "kernelspec": {
   "display_name": ".venv",
   "language": "python",
   "name": "python3"
  },
  "language_info": {
   "codemirror_mode": {
    "name": "ipython",
    "version": 3
   },
   "file_extension": ".py",
   "mimetype": "text/x-python",
   "name": "python",
   "nbconvert_exporter": "python",
   "pygments_lexer": "ipython3",
   "version": "3.8.10"
  }
 },
 "nbformat": 4,
 "nbformat_minor": 2
}
